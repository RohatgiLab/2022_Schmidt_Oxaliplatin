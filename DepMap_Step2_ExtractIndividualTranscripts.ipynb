{
 "cells": [
  {
   "cell_type": "code",
   "execution_count": null,
   "id": "f6d6d358-bea6-4aeb-b347-b6627ee3586f",
   "metadata": {},
   "outputs": [],
   "source": [
    "from csv import DictReader\n",
    "from matplotlib import pyplot\n",
    "import csv\n",
    "import pandas as pd\n",
    "import numpy as np\n",
    "\n",
    "# data files\n",
    "exprFile='/path/to/CCLE_expression.csv'\n",
    "\n",
    "df_first = pd.read_csv(exprFile, nrows=0)\n",
    "print(df_first)"
   ]
  },
  {
   "cell_type": "code",
   "execution_count": null,
   "id": "bd1b634b-2c8a-4e7b-ba6d-9815f524f0fb",
   "metadata": {},
   "outputs": [],
   "source": [
    "##Specify transcript via usecols parameter\n",
    "df = pd.read_csv(exprFile, usecols=[0,10401], names=['colA', 'colB'], header=None)\n",
    "print(df)\n",
    "\n",
    "\n",
    "df.to_csv('RPL8_Expression.csv', sep='\\t')"
   ]
  }
 ],
 "metadata": {
  "kernelspec": {
   "display_name": "Python 3 (ipykernel)",
   "language": "python",
   "name": "python3"
  },
  "language_info": {
   "codemirror_mode": {
    "name": "ipython",
    "version": 3
   },
   "file_extension": ".py",
   "mimetype": "text/x-python",
   "name": "python",
   "nbconvert_exporter": "python",
   "pygments_lexer": "ipython3",
   "version": "3.8.13"
  }
 },
 "nbformat": 4,
 "nbformat_minor": 5
}
